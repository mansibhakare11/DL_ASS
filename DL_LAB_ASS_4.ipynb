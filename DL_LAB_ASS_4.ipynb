{
  "nbformat": 4,
  "nbformat_minor": 0,
  "metadata": {
    "colab": {
      "provenance": [],
      "include_colab_link": true
    },
    "kernelspec": {
      "name": "python3",
      "display_name": "Python 3"
    },
    "language_info": {
      "name": "python"
    }
  },
  "cells": [
    {
      "cell_type": "markdown",
      "metadata": {
        "id": "view-in-github",
        "colab_type": "text"
      },
      "source": [
        "<a href=\"https://colab.research.google.com/github/mansibhakare11/DL_ASS/blob/main/DL_LAB_ASS_4.ipynb\" target=\"_parent\"><img src=\"https://colab.research.google.com/assets/colab-badge.svg\" alt=\"Open In Colab\"/></a>"
      ]
    },
    {
      "cell_type": "markdown",
      "source": [
        "# Google Colab Lab Assignment -NLP\n",
        "\n",
        "**Course Name:** Deep Learning\n",
        "\n",
        "**Lab Title:** NLP Techniques for Text Classification\n",
        "\n",
        "**Student Name:** Bhakare Mansi\n",
        "\n",
        "**Student ID:** 202302040005\n",
        "\n",
        "**Date of Submission:** 13-4-25\n",
        "\n",
        "\n",
        "**Objective**\n",
        "The objective of this assignment is to implement NLP preprocessing techniques and build a text classification model using machine learning techniques.\n",
        "\n",
        "\n"
      ],
      "metadata": {
        "id": "qfwaeuSgcupl"
      }
    },
    {
      "cell_type": "markdown",
      "source": [
        "**Learning Outcomes:**\n",
        "\n",
        "1. Understand and apply NLP preprocessing techniques such as tokenization, stopword removal, stemming, and lemmatization.\n",
        "\n",
        "2. Implement text vectorization techniques such as TF-IDF and CountVectorizer.\n",
        "\n",
        "3. Develop a text classification model using a machine learning algorithm.\n",
        "\n",
        "4. Evaluate the performance of the model using suitable metrics."
      ],
      "metadata": {
        "id": "nN1DLv3exqNw"
      }
    },
    {
      "cell_type": "markdown",
      "source": [
        "# **Assignment Instructions:**"
      ],
      "metadata": {
        "id": "jvYJRtGTI32Y"
      }
    },
    {
      "cell_type": "markdown",
      "source": [
        "**Part 1: NLP Preprocessing**\n",
        "\n",
        "**Dataset Selection:**\n",
        "\n",
        "Choose any text dataset from **Best Datasets for Text** https://en.innovatiana.com/post/best-datasets-for-text-classification Classification, such as SMS Spam Collection, IMDb Reviews, or any other relevant dataset.\n",
        "\n",
        "Download the dataset and upload it to Google Colab.\n",
        "\n",
        "Load the dataset into a Pandas DataFrame and explore its structure (e.g., check missing values, data types, and label distribution).\n",
        "\n",
        "Text Preprocessing:\n",
        "\n",
        "Convert text to lowercase.\n",
        "\n",
        "Perform tokenization using NLTK or spaCy.\n",
        "\n",
        "Remove stopwords using NLTK or spaCy.\n",
        "\n",
        "Apply stemming using PorterStemmer or SnowballStemmer.\n",
        "\n",
        "Apply lemmatization using WordNetLemmatizer.\n",
        "\n",
        "Vectorization Techniques:\n",
        "\n",
        "Convert text data into numerical format using TF-IDF and CountVectorizer.\n",
        "\n"
      ],
      "metadata": {
        "id": "hPA-RFjFc3hF"
      }
    },
    {
      "cell_type": "code",
      "source": [
        "import pandas as pd\n",
        "import nltk\n",
        "from sklearn.model_selection import train_test_split\n",
        "from sklearn.feature_extraction.text import TfidfVectorizer\n",
        "from sklearn.linear_model import LogisticRegression\n",
        "from sklearn.metrics import classification_report, confusion_matrix\n",
        "import matplotlib.pyplot as plt\n",
        "import seaborn as sns\n",
        "\n",
        "# NLTK resources\n",
        "\n",
        "# Download necessary NLTK resources\n",
        "nltk.download('punkt')  # Tokenization\n",
        "nltk.download('stopwords')  # Stopwords for filtering\n",
        "nltk.download('wordnet')  # Lemmatization\n",
        "nltk.download('averaged_perceptron_tagger')  # POS tagging\n",
        "nltk.download('maxent_ne_chunker')  # Named Entity Recognition (NER)\n",
        "nltk.download('words')  # Dictionary for NER\n",
        "nltk.download('punkt_tab') # Download the punkt_tab resource\n",
        "nltk.download('averaged_perceptron_tagger_eng') #download the english version of the tagger\n",
        "nltk.download('maxent_ne_chunker_tab') # Download the correct tab resource for ne_chunker\n",
        "\n",
        "# Load dataset (assuming CSV format with 'label' and 'message' columns)\n",
        "url = \"https://raw.githubusercontent.com/justmarkham/pycon-2016-tutorial/master/data/sms.tsv\"\n",
        "df = pd.read_csv(url, sep=\"\\t\", header=None, names=['label', 'message'])\n",
        "df.columns = ['label', 'message']  # Renaming columns for clarity\n",
        "\n",
        "# Step 1: Preprocessing the text (Tokenization, Stopword Removal, Lemmatization)\n",
        "def preprocess_text(text):\n",
        "    \"\"\"\n",
        "    This function performs text preprocessing by:\n",
        "    - Converting text to lowercase\n",
        "    - Tokenizing the text\n",
        "    - Removing stopwords\n",
        "    - Lemmatizing the words\n",
        "    \"\"\"\n",
        "    text = text.lower()  # Convert text to lowercase\n",
        "    tokens = word_tokenize(text)  # Tokenization\n",
        "\n",
        "    # Remove stopwords\n",
        "    stop_words = set(stopwords.words('english'))\n",
        "    tokens = [word for word in tokens if word not in stop_words]\n",
        "\n",
        "    # Lemmatization\n",
        "    lemmatizer = WordNetLemmatizer()\n",
        "    tokens = [lemmatizer.lemmatize(word) for word in tokens]\n",
        "\n",
        "    return ' '.join(tokens)\n",
        "\n",
        "# Apply preprocessing to the 'message' column\n",
        "df['cleaned'] = df['message'].apply(preprocess_text)\n",
        "print(df.head())  # Check the first few rows to verify preprocessing\n",
        "\n"
      ],
      "metadata": {
        "id": "rQfj_h-Qc6zt",
        "colab": {
          "base_uri": "https://localhost:8080/"
        },
        "outputId": "a92df70f-9edf-4923-cd00-5f96476ef3c6"
      },
      "execution_count": null,
      "outputs": [
        {
          "output_type": "stream",
          "name": "stderr",
          "text": [
            "[nltk_data] Downloading package punkt to /root/nltk_data...\n",
            "[nltk_data]   Package punkt is already up-to-date!\n",
            "[nltk_data] Downloading package stopwords to /root/nltk_data...\n",
            "[nltk_data]   Package stopwords is already up-to-date!\n",
            "[nltk_data] Downloading package wordnet to /root/nltk_data...\n",
            "[nltk_data]   Package wordnet is already up-to-date!\n",
            "[nltk_data] Downloading package averaged_perceptron_tagger to\n",
            "[nltk_data]     /root/nltk_data...\n",
            "[nltk_data]   Package averaged_perceptron_tagger is already up-to-\n",
            "[nltk_data]       date!\n",
            "[nltk_data] Downloading package maxent_ne_chunker to\n",
            "[nltk_data]     /root/nltk_data...\n",
            "[nltk_data]   Package maxent_ne_chunker is already up-to-date!\n",
            "[nltk_data] Downloading package words to /root/nltk_data...\n",
            "[nltk_data]   Package words is already up-to-date!\n",
            "[nltk_data] Downloading package punkt_tab to /root/nltk_data...\n",
            "[nltk_data]   Package punkt_tab is already up-to-date!\n",
            "[nltk_data] Downloading package averaged_perceptron_tagger_eng to\n",
            "[nltk_data]     /root/nltk_data...\n",
            "[nltk_data]   Package averaged_perceptron_tagger_eng is already up-to-\n",
            "[nltk_data]       date!\n",
            "[nltk_data] Downloading package maxent_ne_chunker_tab to\n",
            "[nltk_data]     /root/nltk_data...\n",
            "[nltk_data]   Package maxent_ne_chunker_tab is already up-to-date!\n"
          ]
        },
        {
          "output_type": "stream",
          "name": "stdout",
          "text": [
            "  label                                            message  \\\n",
            "0   ham  Go until jurong point, crazy.. Available only ...   \n",
            "1   ham                      Ok lar... Joking wif u oni...   \n",
            "2  spam  Free entry in 2 a wkly comp to win FA Cup fina...   \n",
            "3   ham  U dun say so early hor... U c already then say...   \n",
            "4   ham  Nah I don't think he goes to usf, he lives aro...   \n",
            "\n",
            "                                             cleaned  \n",
            "0  go jurong point , crazy .. available bugis n g...  \n",
            "1                    ok lar ... joking wif u oni ...  \n",
            "2  free entry 2 wkly comp win fa cup final tkts 2...  \n",
            "3        u dun say early hor ... u c already say ...  \n",
            "4          nah n't think go usf , life around though  \n"
          ]
        }
      ]
    },
    {
      "source": [
        "from sklearn.feature_extraction.text import TfidfVectorizer, CountVectorizer\n",
        "from sklearn.model_selection import train_test_split\n",
        "\n",
        "# Step 2: Text Vectorization\n",
        "# Using both TF-IDF and CountVectorizer\n",
        "\n",
        "# TF-IDF Vectorization\n",
        "tfidf_vectorizer = TfidfVectorizer()\n",
        "X_tfidf = tfidf_vectorizer.fit_transform(df['cleaned'])\n",
        "\n",
        "# CountVectorizer\n",
        "count_vectorizer = CountVectorizer()\n",
        "X_count = count_vectorizer.fit_transform(df['cleaned'])\n",
        "\n",
        "# Target variable (Label) - Spam = 1, Ham = 0\n",
        "y = df['label'].apply(lambda x: 1 if x == 'spam' else 0)\n",
        "\n",
        "# Train-test split (80% train, 20% test)\n",
        "X_train_tfidf, X_test_tfidf, y_train, y_test = train_test_split(X_tfidf, y, test_size=0.2, random_state=42)\n",
        "X_train_count, X_test_count, _, _ = train_test_split(X_count, y, test_size=0.2, random_state=42)\n",
        "\n",
        "print(f\"TF-IDF Matrix Shape: {X_tfidf.shape}\")  # Check shape to verify\n",
        "print(f\"Count Vectorizer Matrix Shape: {X_count.shape}\")  # Check shape to verify\n"
      ],
      "cell_type": "code",
      "execution_count": null,
      "outputs": [
        {
          "output_type": "stream",
          "name": "stdout",
          "text": [
            "TF-IDF Matrix Shape: (5572, 8152)\n",
            "Count Vectorizer Matrix Shape: (5572, 8152)\n"
          ]
        }
      ],
      "metadata": {
        "colab": {
          "base_uri": "https://localhost:8080/"
        },
        "id": "lR4Yo0QZ2miR",
        "outputId": "f35b90b6-3d53-4362-bfe8-ea44dba08029"
      }
    },
    {
      "cell_type": "code",
      "source": [
        "from sklearn.naive_bayes import MultinomialNB\n",
        "from sklearn.linear_model import LogisticRegression\n",
        "\n",
        "# Step 3: Model Training (Logistic Regression & Naive Bayes)\n",
        "\n",
        "# Logistic Regression Model\n",
        "log_reg_model = LogisticRegression()\n",
        "log_reg_model.fit(X_train_tfidf, y_train)\n",
        "\n",
        "# Naive Bayes (MultinomialNB) Model\n",
        "nb_model = MultinomialNB()\n",
        "nb_model.fit(X_train_tfidf, y_train)\n",
        "\n",
        "print(\"Logistic Regression Model Trained\")\n",
        "print(\"Naive Bayes Model Trained\")\n"
      ],
      "metadata": {
        "colab": {
          "base_uri": "https://localhost:8080/"
        },
        "id": "FAze_uXjy_CK",
        "outputId": "a85a1fe8-7ea1-461d-b915-52b163d051b7"
      },
      "execution_count": null,
      "outputs": [
        {
          "output_type": "stream",
          "name": "stdout",
          "text": [
            "Logistic Regression Model Trained\n",
            "Naive Bayes Model Trained\n"
          ]
        }
      ]
    },
    {
      "cell_type": "code",
      "source": [
        "from sklearn.metrics import accuracy_score, classification_report, confusion_matrix\n",
        "\n",
        "# Step 4: Model Evaluation\n",
        "\n",
        "# Logistic Regression Evaluation\n",
        "y_pred_log_reg = log_reg_model.predict(X_test_tfidf)\n",
        "print(\"Logistic Regression - Accuracy:\", accuracy_score(y_test, y_pred_log_reg))\n",
        "print(\"Logistic Regression - Classification Report:\\n\", classification_report(y_test, y_pred_log_reg))\n",
        "print(\"Logistic Regression - Confusion Matrix:\\n\", confusion_matrix(y_test, y_pred_log_reg))\n",
        "\n",
        "# Naive Bayes Evaluation\n",
        "y_pred_nb = nb_model.predict(X_test_tfidf)\n",
        "print(\"Naive Bayes - Accuracy:\", accuracy_score(y_test, y_pred_nb))\n",
        "print(\"Naive Bayes - Classification Report:\\n\", classification_report(y_test, y_pred_nb))\n",
        "print(\"Naive Bayes - Confusion Matrix:\\n\", confusion_matrix(y_test, y_pred_nb))\n"
      ],
      "metadata": {
        "colab": {
          "base_uri": "https://localhost:8080/"
        },
        "id": "Evmh2qXNzc0D",
        "outputId": "1c70c46c-6431-46f9-93a3-a91877ea5521"
      },
      "execution_count": null,
      "outputs": [
        {
          "output_type": "stream",
          "name": "stdout",
          "text": [
            "Logistic Regression - Accuracy: 0.9596412556053812\n",
            "Logistic Regression - Classification Report:\n",
            "               precision    recall  f1-score   support\n",
            "\n",
            "           0       0.96      1.00      0.98       966\n",
            "           1       0.99      0.70      0.82       149\n",
            "\n",
            "    accuracy                           0.96      1115\n",
            "   macro avg       0.97      0.85      0.90      1115\n",
            "weighted avg       0.96      0.96      0.96      1115\n",
            "\n",
            "Logistic Regression - Confusion Matrix:\n",
            " [[965   1]\n",
            " [ 44 105]]\n",
            "Naive Bayes - Accuracy: 0.9739910313901345\n",
            "Naive Bayes - Classification Report:\n",
            "               precision    recall  f1-score   support\n",
            "\n",
            "           0       0.97      1.00      0.99       966\n",
            "           1       1.00      0.81      0.89       149\n",
            "\n",
            "    accuracy                           0.97      1115\n",
            "   macro avg       0.99      0.90      0.94      1115\n",
            "weighted avg       0.97      0.97      0.97      1115\n",
            "\n",
            "Naive Bayes - Confusion Matrix:\n",
            " [[966   0]\n",
            " [ 29 120]]\n"
          ]
        }
      ]
    },
    {
      "cell_type": "code",
      "source": [
        "# Step 5: Visualization - Confusion Matrix for both models\n",
        "\n",
        "# Confusion Matrix for Logistic Regression\n",
        "conf_matrix_log_reg = confusion_matrix(y_test, y_pred_log_reg)\n",
        "sns.heatmap(conf_matrix_log_reg, annot=True, fmt='d', cmap='Blues', xticklabels=['Ham', 'Spam'], yticklabels=['Ham', 'Spam'])\n",
        "plt.title(\"Confusion Matrix - Logistic Regression\")\n",
        "plt.xlabel(\"Predicted\")\n",
        "plt.ylabel(\"Actual\")\n",
        "plt.show()\n",
        "\n",
        "# Confusion Matrix for Naive Bayes\n",
        "conf_matrix_nb = confusion_matrix(y_test, y_pred_nb)\n",
        "sns.heatmap(conf_matrix_nb, annot=True, fmt='d', cmap='Blues', xticklabels=['Ham', 'Spam'], yticklabels=['Ham', 'Spam'])\n",
        "plt.title(\"Confusion Matrix - Naive Bayes\")\n",
        "plt.xlabel(\"Predicted\")\n",
        "plt.ylabel(\"Actual\")\n",
        "plt.show()\n"
      ],
      "metadata": {
        "id": "XGqjwpJny_A8",
        "colab": {
          "base_uri": "https://localhost:8080/",
          "height": 927
        },
        "outputId": "e843c1fe-de2a-4cb1-e6d2-80ff748c0dc8"
      },
      "execution_count": null,
      "outputs": [
        {
          "output_type": "display_data",
          "data": {
            "text/plain": [
              "<Figure size 640x480 with 2 Axes>"
            ],
            "image/png": "[encoded data removed]"
          },
          "metadata": {}
        },
        {
          "output_type": "display_data",
          "data": {
            "text/plain": [
              "<Figure size 640x480 with 2 Axes>"
            ],
            "image/png": "[encoded data removed]"
          },
          "metadata": {}
        }
      ]
    },
    {
      "cell_type": "code",
      "source": [
        "# Step 6: Model Prediction on New SMS\n",
        "\n",
        "# New SMS Examples\n",
        "new_sms = [\n",
        "    \"Congrats! You've won a free lottery. Call now to claim your prize.\",\n",
        "    \"Hey, are we meeting at 5 PM today?\"\n",
        "]\n",
        "\n",
        "# Preprocess the new SMS messages\n",
        "new_sms_cleaned = [preprocess_text(text) for text in new_sms]\n",
        "\n",
        "# Vectorize the new messages using TF-IDF\n",
        "new_sms_tfidf = tfidf_vectorizer.transform(new_sms_cleaned)\n",
        "\n",
        "# Predict using Logistic Regression model\n",
        "log_reg_predictions = log_reg_model.predict(new_sms_tfidf)\n",
        "log_reg_pred_labels = ['Spam' if pred == 1 else 'Ham' for pred in log_reg_predictions]\n",
        "\n",
        "# Predict using Naive Bayes model\n",
        "nb_predictions = nb_model.predict(new_sms_tfidf)\n",
        "nb_pred_labels = ['Spam' if pred == 1 else 'Ham' for pred in nb_predictions]\n",
        "\n",
        "# Output the predictions in a beautiful format\n",
        "print(\"\\n---- Model Predictions on New SMS ----\\n\")\n",
        "\n",
        "for i, sms in enumerate(new_sms):\n",
        "    print(f\"SMS {i+1}:\")\n",
        "    print(f\"  Message: '{sms}'\")\n",
        "    print(f\"  Logistic Regression Prediction: {log_reg_pred_labels[i]}\")\n",
        "    print(f\"  Naive Bayes Prediction: {nb_pred_labels[i]}\")\n",
        "    print(\"-\" * 50)\n"
      ],
      "metadata": {
        "id": "-b2Z6SaydAfQ",
        "colab": {
          "base_uri": "https://localhost:8080/"
        },
        "outputId": "a917db18-5602-4635-93d2-d09be25019db"
      },
      "execution_count": null,
      "outputs": [
        {
          "output_type": "stream",
          "name": "stdout",
          "text": [
            "\n",
            "---- Model Predictions on New SMS ----\n",
            "\n",
            "SMS 1:\n",
            "  Message: 'Congrats! You've won a free lottery. Call now to claim your prize.'\n",
            "  Logistic Regression Prediction: Spam\n",
            "  Naive Bayes Prediction: Spam\n",
            "--------------------------------------------------\n",
            "SMS 2:\n",
            "  Message: 'Hey, are we meeting at 5 PM today?'\n",
            "  Logistic Regression Prediction: Ham\n",
            "  Naive Bayes Prediction: Ham\n",
            "--------------------------------------------------\n"
          ]
        }
      ]
    }
  ]
}